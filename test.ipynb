{
 "cells": [
  {
   "cell_type": "markdown",
   "metadata": {},
   "source": [
    "## Data Analysis"
   ]
  },
  {
   "cell_type": "code",
   "execution_count": 1,
   "metadata": {},
   "outputs": [],
   "source": [
    "import polars as pl\n",
    "import matplotlib.pyplot as plt\n",
    "import numpy as np\n",
    "import random\n",
    "from tqdm import tqdm\n",
    "import datetime\n",
    "\n",
    "\n",
    "from mysystem.utils.cleaner import Cleaner\n",
    "from mysystem.engine import Engine\n",
    "from strategy import MyStrategy\n",
    "from mysystem.utils.plumber import Plumber"
   ]
  },
  {
   "cell_type": "code",
   "execution_count": 2,
   "metadata": {},
   "outputs": [],
   "source": [
    "daily = pl.read_ipc('./data/stk_daily.feather')\n",
    "annotation = pl.read_ipc('./data/stk_fin_annotation.feather')\n",
    "balance = pl.read_ipc('./data/stk_fin_balance.feather')\n",
    "cashflow = pl.read_ipc('./data/stk_fin_cashflow.feather')\n",
    "income = pl.read_ipc('./data/stk_fin_income.feather')\n",
    "item_map = pl.read_ipc('./data/stk_fin_item_map.feather')"
   ]
  },
  {
   "cell_type": "code",
   "execution_count": 3,
   "metadata": {},
   "outputs": [
    {
     "name": "stderr",
     "output_type": "stream",
     "text": [
      "\u001b[32m2023-12-04 13:19:56\u001b[0m \u001b[35mLAPTOP-05NEQGN9\u001b[0m \u001b[34mmysystem.engine[15468]\u001b[0m \u001b[1;30mINFO\u001b[0m 正在初始化策略...\n",
      "\u001b[32m2023-12-04 13:19:56\u001b[0m \u001b[35mLAPTOP-05NEQGN9\u001b[0m \u001b[34mmysystem.engine[15468]\u001b[0m \u001b[1;30mINFO\u001b[0m 重组市场数据...\n",
      "\u001b[32m2023-12-04 13:19:56\u001b[0m \u001b[35mLAPTOP-05NEQGN9\u001b[0m \u001b[34mmysystem.engine[15468]\u001b[0m \u001b[1;30mINFO\u001b[0m 回测时间段：2020-01-01 00:00:00 ~ 2022-12-31 00:00:00\n",
      "\u001b[32m2023-12-04 13:19:56\u001b[0m \u001b[35mLAPTOP-05NEQGN9\u001b[0m \u001b[34mmysystem.engine[15468]\u001b[0m \u001b[1;30mINFO\u001b[0m 回测策略：5DR\n",
      "正在回测中:   8%|\u001b[32m▊         \u001b[0m| 60/728 [00:06<01:16,  8.68it/s]\n"
     ]
    },
    {
     "ename": "KeyboardInterrupt",
     "evalue": "",
     "output_type": "error",
     "traceback": [
      "\u001b[1;31m---------------------------------------------------------------------------\u001b[0m",
      "\u001b[1;31mKeyboardInterrupt\u001b[0m                         Traceback (most recent call last)",
      "\u001b[1;32md:\\pku\\3.1\\quantSystem\\test.ipynb 单元格 4\u001b[0m line \u001b[0;36m1\n\u001b[0;32m     <a href='vscode-notebook-cell:/d%3A/pku/3.1/quantSystem/test.ipynb#W3sZmlsZQ%3D%3D?line=13'>14</a>\u001b[0m engine \u001b[39m=\u001b[39m Engine(args)\n\u001b[0;32m     <a href='vscode-notebook-cell:/d%3A/pku/3.1/quantSystem/test.ipynb#W3sZmlsZQ%3D%3D?line=14'>15</a>\u001b[0m \u001b[39m#开始回测\u001b[39;00m\n\u001b[1;32m---> <a href='vscode-notebook-cell:/d%3A/pku/3.1/quantSystem/test.ipynb#W3sZmlsZQ%3D%3D?line=15'>16</a>\u001b[0m log \u001b[39m=\u001b[39m engine\u001b[39m.\u001b[39;49mbacktest()\n\u001b[0;32m     <a href='vscode-notebook-cell:/d%3A/pku/3.1/quantSystem/test.ipynb#W3sZmlsZQ%3D%3D?line=16'>17</a>\u001b[0m \u001b[39m#解析日志\u001b[39;00m\n\u001b[0;32m     <a href='vscode-notebook-cell:/d%3A/pku/3.1/quantSystem/test.ipynb#W3sZmlsZQ%3D%3D?line=17'>18</a>\u001b[0m plumber\u001b[39m.\u001b[39mparse_log(log)\n",
      "File \u001b[1;32md:\\pku\\3.1\\quantSystem\\mysystem\\engine.py:46\u001b[0m, in \u001b[0;36mEngine.backtest\u001b[1;34m(self)\u001b[0m\n\u001b[0;32m     44\u001b[0m                 trade_count\u001b[39m+\u001b[39m\u001b[39m=\u001b[39m\u001b[39m1\u001b[39m\n\u001b[0;32m     45\u001b[0m     \u001b[39mself\u001b[39m\u001b[39m.\u001b[39mlog\u001b[39m.\u001b[39mappend(\u001b[39mself\u001b[39m\u001b[39m.\u001b[39mget_total_value(day_data))\n\u001b[1;32m---> 46\u001b[0m     \u001b[39mself\u001b[39m\u001b[39m.\u001b[39mbaseline_log\u001b[39m.\u001b[39mappend(\u001b[39mself\u001b[39;49m\u001b[39m.\u001b[39;49mget_baseline_value(day_data))\n\u001b[0;32m     47\u001b[0m     day_count \u001b[39m+\u001b[39m\u001b[39m=\u001b[39m \u001b[39m1\u001b[39m\n\u001b[0;32m     48\u001b[0m logger\u001b[39m.\u001b[39minfo(\u001b[39m'\u001b[39m\u001b[39m回测结束\u001b[39m\u001b[39m'\u001b[39m)\n",
      "File \u001b[1;32md:\\pku\\3.1\\quantSystem\\mysystem\\engine.py:100\u001b[0m, in \u001b[0;36mEngine.get_baseline_value\u001b[1;34m(self, day_data)\u001b[0m\n\u001b[0;32m     98\u001b[0m ret \u001b[39m=\u001b[39m \u001b[39m0\u001b[39m\n\u001b[0;32m     99\u001b[0m \u001b[39mfor\u001b[39;00m \u001b[39mid\u001b[39m,v \u001b[39min\u001b[39;00m \u001b[39mself\u001b[39m\u001b[39m.\u001b[39mbaseline\u001b[39m.\u001b[39mitems():\n\u001b[1;32m--> 100\u001b[0m     data \u001b[39m=\u001b[39m day_data\u001b[39m.\u001b[39;49mfilter(pl\u001b[39m.\u001b[39;49mcol(\u001b[39m'\u001b[39;49m\u001b[39mstk_id\u001b[39;49m\u001b[39m'\u001b[39;49m)\u001b[39m==\u001b[39;49m\u001b[39mid\u001b[39;49m)\n\u001b[0;32m    101\u001b[0m     price \u001b[39m=\u001b[39m (data[\u001b[39m0\u001b[39m, \u001b[39m'\u001b[39m\u001b[39mopen\u001b[39m\u001b[39m'\u001b[39m] \u001b[39m+\u001b[39m data[\u001b[39m0\u001b[39m, \u001b[39m'\u001b[39m\u001b[39mclose\u001b[39m\u001b[39m'\u001b[39m])\u001b[39m/\u001b[39m\u001b[39m2\u001b[39m\n\u001b[0;32m    102\u001b[0m     ret \u001b[39m+\u001b[39m\u001b[39m=\u001b[39m (price\u001b[39m*\u001b[39mv\u001b[39m*\u001b[39m(\u001b[39m1\u001b[39m\u001b[39m-\u001b[39m(\u001b[39m1e-3\u001b[39m)\u001b[39m-\u001b[39m(\u001b[39m3e-4\u001b[39m)) \u001b[39m-\u001b[39m v\u001b[39m*\u001b[39m(\u001b[39m6e-4\u001b[39m))\n",
      "File \u001b[1;32mc:\\Users\\WangChiyuan\\miniconda3\\envs\\quantSys\\lib\\site-packages\\polars\\dataframe\\frame.py:4012\u001b[0m, in \u001b[0;36mDataFrame.filter\u001b[1;34m(self, *predicates, **constraints)\u001b[0m\n\u001b[0;32m   3915\u001b[0m \u001b[39mdef\u001b[39;00m \u001b[39mfilter\u001b[39m(\n\u001b[0;32m   3916\u001b[0m     \u001b[39mself\u001b[39m,\n\u001b[0;32m   3917\u001b[0m     \u001b[39m*\u001b[39mpredicates: (\n\u001b[1;32m   (...)\u001b[0m\n\u001b[0;32m   3924\u001b[0m     \u001b[39m*\u001b[39m\u001b[39m*\u001b[39mconstraints: Any,\n\u001b[0;32m   3925\u001b[0m ) \u001b[39m-\u001b[39m\u001b[39m>\u001b[39m DataFrame:\n\u001b[0;32m   3926\u001b[0m \u001b[39m    \u001b[39m\u001b[39m\"\"\"\u001b[39;00m\n\u001b[0;32m   3927\u001b[0m \u001b[39m    Filter the rows in the DataFrame based on a predicate expression.\u001b[39;00m\n\u001b[0;32m   3928\u001b[0m \n\u001b[1;32m   (...)\u001b[0m\n\u001b[0;32m   4010\u001b[0m \n\u001b[0;32m   4011\u001b[0m \u001b[39m    \"\"\"\u001b[39;00m\n\u001b[1;32m-> 4012\u001b[0m     \u001b[39mreturn\u001b[39;00m \u001b[39mself\u001b[39;49m\u001b[39m.\u001b[39;49mlazy()\u001b[39m.\u001b[39;49mfilter(\u001b[39m*\u001b[39;49mpredicates, \u001b[39m*\u001b[39;49m\u001b[39m*\u001b[39;49mconstraints)\u001b[39m.\u001b[39;49mcollect(_eager\u001b[39m=\u001b[39;49m\u001b[39mTrue\u001b[39;49;00m)\n",
      "File \u001b[1;32mc:\\Users\\WangChiyuan\\miniconda3\\envs\\quantSys\\lib\\site-packages\\polars\\utils\\deprecation.py:100\u001b[0m, in \u001b[0;36mdeprecate_renamed_parameter.<locals>.decorate.<locals>.wrapper\u001b[1;34m(*args, **kwargs)\u001b[0m\n\u001b[0;32m     95\u001b[0m \u001b[39m@wraps\u001b[39m(function)\n\u001b[0;32m     96\u001b[0m \u001b[39mdef\u001b[39;00m \u001b[39mwrapper\u001b[39m(\u001b[39m*\u001b[39margs: P\u001b[39m.\u001b[39margs, \u001b[39m*\u001b[39m\u001b[39m*\u001b[39mkwargs: P\u001b[39m.\u001b[39mkwargs) \u001b[39m-\u001b[39m\u001b[39m>\u001b[39m T:\n\u001b[0;32m     97\u001b[0m     _rename_keyword_argument(\n\u001b[0;32m     98\u001b[0m         old_name, new_name, kwargs, function\u001b[39m.\u001b[39m\u001b[39m__name__\u001b[39m, version\n\u001b[0;32m     99\u001b[0m     )\n\u001b[1;32m--> 100\u001b[0m     \u001b[39mreturn\u001b[39;00m function(\u001b[39m*\u001b[39margs, \u001b[39m*\u001b[39m\u001b[39m*\u001b[39mkwargs)\n",
      "File \u001b[1;32mc:\\Users\\WangChiyuan\\miniconda3\\envs\\quantSys\\lib\\site-packages\\polars\\lazyframe\\frame.py:1787\u001b[0m, in \u001b[0;36mLazyFrame.collect\u001b[1;34m(self, type_coercion, predicate_pushdown, projection_pushdown, simplify_expression, slice_pushdown, comm_subplan_elim, comm_subexpr_elim, no_optimization, streaming, _eager)\u001b[0m\n\u001b[0;32m   1774\u001b[0m     comm_subplan_elim \u001b[39m=\u001b[39m \u001b[39mFalse\u001b[39;00m\n\u001b[0;32m   1776\u001b[0m ldf \u001b[39m=\u001b[39m \u001b[39mself\u001b[39m\u001b[39m.\u001b[39m_ldf\u001b[39m.\u001b[39moptimization_toggle(\n\u001b[0;32m   1777\u001b[0m     type_coercion,\n\u001b[0;32m   1778\u001b[0m     predicate_pushdown,\n\u001b[1;32m   (...)\u001b[0m\n\u001b[0;32m   1785\u001b[0m     _eager,\n\u001b[0;32m   1786\u001b[0m )\n\u001b[1;32m-> 1787\u001b[0m \u001b[39mreturn\u001b[39;00m wrap_df(ldf\u001b[39m.\u001b[39;49mcollect())\n",
      "\u001b[1;31mKeyboardInterrupt\u001b[0m: "
     ]
    }
   ],
   "source": [
    "#创建清洗器、日志解析器\n",
    "cleaner = Cleaner()\n",
    "plumber = Plumber()\n",
    "#清洗数据\n",
    "data = cleaner.clean(daily)\n",
    "#设置回测参数\n",
    "args = {\n",
    "    'data': data,\n",
    "    'strategy': MyStrategy(),\n",
    "    'start_day': datetime.datetime(2020,1,1),\n",
    "    'end_day': datetime.datetime(2022,12,31),\n",
    "}\n",
    "#挂载引擎\n",
    "engine = Engine(args)\n",
    "#开始回测\n",
    "log = engine.backtest()\n",
    "#解析日志\n",
    "plumber.parse_log(log)"
   ]
  }
 ],
 "metadata": {
  "kernelspec": {
   "display_name": "base",
   "language": "python",
   "name": "python3"
  },
  "language_info": {
   "codemirror_mode": {
    "name": "ipython",
    "version": 3
   },
   "file_extension": ".py",
   "mimetype": "text/x-python",
   "name": "python",
   "nbconvert_exporter": "python",
   "pygments_lexer": "ipython3",
   "version": "3.10.13"
  }
 },
 "nbformat": 4,
 "nbformat_minor": 2
}
